{
 "cells": [
  {
   "cell_type": "code",
   "execution_count": 1,
   "metadata": {},
   "outputs": [],
   "source": [
    "# Import required libraries\n",
    "import pandas as pd\n",
    "import dash\n",
    "import dash_html_components as html\n",
    "import dash_core_components as dcc\n",
    "from dash.dependencies import Input, Output\n",
    "import plotly.express as px"
   ]
  },
  {
   "cell_type": "code",
   "execution_count": null,
   "metadata": {
    "colab": {
     "base_uri": "https://localhost:8080/",
     "height": 381
    },
    "id": "fVITklIYxTBj",
    "outputId": "f3be42d1-298e-48f7-a7cd-eec529a14618"
   },
   "outputs": [
    {
     "name": "stdout",
     "output_type": "stream",
     "text": [
      "Dash is running on http://127.0.0.1:8050/\n",
      "\n",
      " * Serving Flask app '__main__' (lazy loading)\n",
      " * Environment: production\n",
      "\u001b[31m   WARNING: This is a development server. Do not use it in a production deployment.\u001b[0m\n",
      "\u001b[2m   Use a production WSGI server instead.\u001b[0m\n",
      " * Debug mode: off\n"
     ]
    },
    {
     "name": "stderr",
     "output_type": "stream",
     "text": [
      " * Running on http://127.0.0.1:8050/ (Press CTRL+C to quit)\n"
     ]
    }
   ],
   "source": [
    "\n",
    "\n",
    "# Read the airline data into pandas dataframe\n",
    "spacex_df = pd.read_csv(\"spacex_launch_dash.csv\")\n",
    "max_payload = spacex_df['Payload Mass (kg)'].max()\n",
    "min_payload = spacex_df['Payload Mass (kg)'].min()\n",
    "\n",
    "# Create list of launch sites\n",
    "unique_launch_sites = spacex_df['Launch Site'].unique().tolist()\n",
    "launch_sites = []\n",
    "launch_sites.append({'label': 'All Sites', 'value': 'all sites'})\n",
    "for launch_site in unique_launch_sites:\n",
    "    launch_sites.append({'label': launch_site, 'value': launch_site})\n",
    "\n",
    "# Create dictionary of marks\n",
    "marks_dict = {}\n",
    "for i in range(0,11000,1000):\n",
    "    marks_dict[i] = {'label': str(i)+' Kg'}\n",
    "\n",
    "# Create a dash application\n",
    "app = dash.Dash(__name__)\n",
    "\n",
    "# Create an app layout\n",
    "app.layout = html.Div(children=[html.H1('SpaceX Launch Records Dashboard',\n",
    "                                        style={'textAlign': 'center', 'color': '#503D36',\n",
    "                                               'font-size': 40}),\n",
    "                                # TASK 1: Add a dropdown list to enable Launch Site selection\n",
    "                                # The default select value is for ALL sites\n",
    "                                dcc.Dropdown(id='site-dropdown',\n",
    "                                             options=launch_sites,\n",
    "                                             value='all sites',\n",
    "                                             placeholder='Select a Launch Site here',\n",
    "                                             searchable=True),\n",
    "                                html.Br(),\n",
    "\n",
    "                                # TASK 2: Add a pie chart to show the total successful launches count for all sites\n",
    "                                # If a specific launch site was selected, show the Success vs. Failed counts for the site\n",
    "                                html.Div(dcc.Graph(id='success-pie-chart')),\n",
    "                                html.Br(),\n",
    "\n",
    "                                html.P(\"Payload range (Kg):\"),\n",
    "                                # TASK 3: Add a slider to select payload range\n",
    "                                html.Div([\n",
    "                                    dcc.RangeSlider(\n",
    "                                        id = 'payload_slider',\n",
    "                                        min = 0,\n",
    "                                        max = 10000,\n",
    "                                        step = 1000,\n",
    "                                        marks = marks_dict,\n",
    "                                        value = [min_payload, max_payload]\n",
    "                                    ),\n",
    "                                ], style={'padding': '40px 30px'}),\n",
    "\n",
    "                                # TASK 4: Add a scatter chart to show the correlation between payload and launch success\n",
    "                                html.Div(dcc.Graph(id='success-payload-scatter-chart')),\n",
    "                                ])\n",
    "\n",
    "\n",
    "# TASK 2:\n",
    "# Add a callback function for `site-dropdown` as input, `success-pie-chart` as output\n",
    "@app.callback(\n",
    "    Output(component_id='success-pie-chart', component_property='figure'),\n",
    "    Input(component_id='site-dropdown', component_property='value')\n",
    ")\n",
    "def display_pie_chart(site):\n",
    "    if site == 'all sites' or site == None:\n",
    "        data = spacex_df[spacex_df['class']==1] \n",
    "        fig = px.pie(data, names='Launch Site', title=\"Total Success Launches By Site\")\n",
    "    else:\n",
    "        data = spacex_df[spacex_df['Launch Site']==site]\n",
    "        fig = px.pie(data, names='class', title='Total Success Launches for site '+site)\n",
    "    return fig\n",
    "\n",
    "\n",
    "# TASK 4:\n",
    "# Add a callback function for `site-dropdown` and `payload-slider` as inputs, `success-payload-scatter-chart` as output\n",
    "@app.callback(\n",
    "    Output(component_id='success-payload-scatter-chart', component_property='figure'),\n",
    "    [Input(component_id='site-dropdown', component_property='value'),\n",
    "     Input(component_id='payload_slider', component_property='value')]\n",
    ")\n",
    "def display_scatter(site, payload):\n",
    "    min, max = payload\n",
    "    data = spacex_df[spacex_df['Payload Mass (kg)'].between(min, max)]\n",
    "    if site == 'all sites' or site == None:\n",
    "        data_filtered = data\n",
    "    else:\n",
    "        data_filtered = data[data['Launch Site']==site]\n",
    "    fig = px.scatter(data_filtered, \n",
    "                     x='Payload Mass (kg)', y='class', \n",
    "                     color='Booster Version Category', \n",
    "                     title='Correlation between Payload and Success for '+site,\n",
    "                    )\n",
    "    return fig\n",
    "\n",
    "\n",
    "\n",
    "\n",
    "# Run the app\n",
    "if __name__ == '__main__':\n",
    "    app.run_server()"
   ]
  },
  {
   "cell_type": "code",
   "execution_count": null,
   "metadata": {},
   "outputs": [],
   "source": []
  }
 ],
 "metadata": {
  "colab": {
   "authorship_tag": "ABX9TyOXr+eZVAJAfsp7BpxCIojr",
   "include_colab_link": true,
   "name": "US-Domestic-Airline-Flights-performances.ipynb",
   "provenance": []
  },
  "kernelspec": {
   "display_name": "Python 3 (ipykernel)",
   "language": "python",
   "name": "python3"
  },
  "language_info": {
   "codemirror_mode": {
    "name": "ipython",
    "version": 3
   },
   "file_extension": ".py",
   "mimetype": "text/x-python",
   "name": "python",
   "nbconvert_exporter": "python",
   "pygments_lexer": "ipython3",
   "version": "3.8.13"
  }
 },
 "nbformat": 4,
 "nbformat_minor": 1
}
